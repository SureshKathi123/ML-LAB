{
 "cells": [
  {
   "cell_type": "code",
   "execution_count": null,
   "metadata": {},
   "outputs": [],
   "source": [
    "#12_B200294(SureshK) -CSE_C2 "
   ]
  },
  {
   "cell_type": "code",
   "execution_count": 103,
   "metadata": {},
   "outputs": [
    {
     "name": "stdout",
     "output_type": "stream",
     "text": [
      "0    10\n",
      "1    20\n",
      "2    30\n",
      "3    40\n",
      "dtype: int64\n"
     ]
    }
   ],
   "source": [
    "import pandas as pd \n",
    "data = [10, 20, 30, 40] \n",
    "v = pd.Series(data) \n",
    "print(v)"
   ]
  },
  {
   "cell_type": "code",
   "execution_count": 104,
   "metadata": {},
   "outputs": [
    {
     "name": "stdout",
     "output_type": "stream",
     "text": [
      "      Name  Age         City\n",
      "0    Alice   25     New York\n",
      "1      Bob   30  Los Angeles\n",
      "2  Charlie   35      Chicago\n",
      "0      Alice\n",
      "1        Bob\n",
      "2    Charlie\n",
      "Name: Name, dtype: object\n"
     ]
    }
   ],
   "source": [
    "#it coverts the dictionaries to tablualr form\n",
    "data = {\n",
    "'Name': ['Alice', 'Bob', 'Charlie'],\n",
    "'Age': [25, 30, 35],\n",
    "'City': ['New York', 'Los Angeles', 'Chicago']\n",
    "}\n",
    "df = pd.DataFrame(data)\n",
    "print(df)\n",
    "print(df['Name'])"
   ]
  },
  {
   "cell_type": "code",
   "execution_count": 105,
   "metadata": {},
   "outputs": [
    {
     "name": "stdout",
     "output_type": "stream",
     "text": [
      "   TransactionID TransactionDate  UserID  ProductID  Quantity\n",
      "0              1      2010-08-21     7.0          2         1\n",
      "1              2      2011-05-26     3.0          4         1\n",
      "2              3      2011-06-16     3.0          3         1\n",
      "3              4      2012-08-26     1.0          2         3\n",
      "4              5      2013-06-06     2.0          4         1\n"
     ]
    }
   ],
   "source": [
    "import pandas as pd\n",
    "df=pd.read_csv('transactions.csv')\n",
    "print(df.head())\n",
    "#head return the first 5 rows from a data"
   ]
  },
  {
   "cell_type": "code",
   "execution_count": 106,
   "metadata": {},
   "outputs": [],
   "source": [
    "#tail() method"
   ]
  },
  {
   "cell_type": "code",
   "execution_count": 107,
   "metadata": {},
   "outputs": [
    {
     "name": "stdout",
     "output_type": "stream",
     "text": [
      "   TransactionID TransactionDate  UserID  ProductID  Quantity\n",
      "5              6      2013-12-23     2.0          5         6\n",
      "6              7      2013-12-30     3.0          4         1\n",
      "7              8      2014-04-24     NaN          2         3\n",
      "8              9      2015-04-24     7.0          4         3\n",
      "9             10      2016-05-08     3.0          4         4\n"
     ]
    }
   ],
   "source": [
    "import pandas as pd\n",
    "df=pd.read_csv('transactions.csv')\n",
    "print(df.tail())\n",
    "#it returns last 5 rows of dataframe"
   ]
  },
  {
   "cell_type": "code",
   "execution_count": 108,
   "metadata": {},
   "outputs": [
    {
     "name": "stdout",
     "output_type": "stream",
     "text": [
      "<class 'pandas.core.frame.DataFrame'>\n",
      "RangeIndex: 10 entries, 0 to 9\n",
      "Data columns (total 5 columns):\n",
      " #   Column           Non-Null Count  Dtype  \n",
      "---  ------           --------------  -----  \n",
      " 0   TransactionID    10 non-null     int64  \n",
      " 1   TransactionDate  10 non-null     object \n",
      " 2   UserID           9 non-null      float64\n",
      " 3   ProductID        10 non-null     int64  \n",
      " 4   Quantity         10 non-null     int64  \n",
      "dtypes: float64(1), int64(3), object(1)\n",
      "memory usage: 532.0+ bytes\n",
      "None\n"
     ]
    }
   ],
   "source": [
    "#info() method gives more information about dataset\n",
    "import pandas as pd\n",
    "df=pd.read_csv('transactions.csv')\n",
    "print(df.info())"
   ]
  },
  {
   "cell_type": "code",
   "execution_count": 109,
   "metadata": {},
   "outputs": [
    {
     "name": "stdout",
     "output_type": "stream",
     "text": [
      "       TransactionID    UserID  ProductID   Quantity\n",
      "count       10.00000  9.000000  10.000000  10.000000\n",
      "mean         5.50000  3.444444   3.400000   2.400000\n",
      "std          3.02765  2.127858   1.074968   1.712698\n",
      "min          1.00000  1.000000   2.000000   1.000000\n",
      "25%          3.25000  2.000000   2.250000   1.000000\n",
      "50%          5.50000  3.000000   4.000000   2.000000\n",
      "75%          7.75000  3.000000   4.000000   3.000000\n",
      "max         10.00000  7.000000   5.000000   6.000000\n"
     ]
    }
   ],
   "source": [
    "#describe() method gives more deatils like mean ,median etc\n",
    "import pandas as pd\n",
    "df=pd.read_csv('transactions.csv')\n",
    "print(df.describe())"
   ]
  },
  {
   "cell_type": "code",
   "execution_count": 110,
   "metadata": {},
   "outputs": [
    {
     "name": "stdout",
     "output_type": "stream",
     "text": [
      "   TransactionID TransactionDate  UserID  ProductID  Quantity\n",
      "6              7      2013-12-30     3.0          4         1\n",
      "4              5      2013-06-06     2.0          4         1\n",
      "2              3      2011-06-16     3.0          3         1\n",
      "1              2      2011-05-26     3.0          4         1\n",
      "0              1      2010-08-21     7.0          2         1\n",
      "   TransactionID TransactionDate  UserID  ProductID  Quantity\n",
      "0              1      2010-08-21     7.0          2         1\n",
      "2              3      2011-06-16     3.0          3         1\n",
      "5              6      2013-12-23     2.0          5         6\n"
     ]
    }
   ],
   "source": [
    "import pandas as pd\n",
    "df = pd.read_csv(\"transactions.csv\")\n",
    "df_sorted = df.sort_values(by=[\"Quantity\", \"TransactionDate\"],\n",
    "ascending=[True, False])\n",
    "print(df_sorted.head())\n",
    "subset_rows = df.iloc[[0, 2, 5]]\n",
    "print(subset_rows)\n",
    "\n",
    "\n",
    "#➢ The by parameter specifies the columns to sort by.\n",
    "#➢ Here, the DataFrame is sorted by Quantity first and then by\n",
    "#TransactionDate.\n",
    "#ascending=[True, False]:\n",
    "#This specifies the sorting order for each column.\n",
    "#➢ True for Quantity means ascending order.\n",
    "#➢ False for TransactionDate means descending order."
   ]
  },
  {
   "cell_type": "code",
   "execution_count": 111,
   "metadata": {},
   "outputs": [
    {
     "name": "stdout",
     "output_type": "stream",
     "text": [
      "<class 'pandas.core.frame.DataFrame'>\n",
      "RangeIndex: 10 entries, 0 to 9\n",
      "Data columns (total 5 columns):\n",
      " #   Column           Non-Null Count  Dtype  \n",
      "---  ------           --------------  -----  \n",
      " 0   TransactionID    10 non-null     int64  \n",
      " 1   TransactionDate  10 non-null     object \n",
      " 2   UserID           9 non-null      float64\n",
      " 3   ProductID        10 non-null     int64  \n",
      " 4   Quantity         10 non-null     int64  \n",
      "dtypes: float64(1), int64(3), object(1)\n",
      "memory usage: 532.0+ bytes\n",
      "None\n",
      "       TransactionID    UserID  ProductID   Quantity\n",
      "count       10.00000  9.000000  10.000000  10.000000\n",
      "mean         5.50000  3.444444   3.400000   2.400000\n",
      "std          3.02765  2.127858   1.074968   1.712698\n",
      "min          1.00000  1.000000   2.000000   1.000000\n",
      "25%          3.25000  2.000000   2.250000   1.000000\n",
      "50%          5.50000  3.000000   4.000000   2.000000\n",
      "75%          7.75000  3.000000   4.000000   3.000000\n",
      "max         10.00000  7.000000   5.000000   6.000000\n"
     ]
    }
   ],
   "source": [
    "import pandas as pd\n",
    "transactions=pd.read_csv('transactions.csv')\n",
    "# 1. Print Summary of transaction data set\n",
    "print(transactions.info())\n",
    "print(transactions.describe())"
   ]
  },
  {
   "cell_type": "code",
   "execution_count": 112,
   "metadata": {},
   "outputs": [
    {
     "name": "stdout",
     "output_type": "stream",
     "text": [
      "Number of attributes: 5\n"
     ]
    }
   ],
   "source": [
    "# 2. Print Numbers of Attributes\n",
    "print(f\"Number of attributes: {transactions.shape[1]}\")"
   ]
  },
  {
   "cell_type": "code",
   "execution_count": 113,
   "metadata": {},
   "outputs": [
    {
     "name": "stdout",
     "output_type": "stream",
     "text": [
      "Number of records: 10\n"
     ]
    }
   ],
   "source": [
    "# 3. Print Numbers of Records\n",
    "print(f\"Number of records: {transactions.shape[0]}\")\n"
   ]
  },
  {
   "cell_type": "code",
   "execution_count": 114,
   "metadata": {},
   "outputs": [
    {
     "name": "stdout",
     "output_type": "stream",
     "text": [
      "RangeIndex(start=0, stop=10, step=1)\n"
     ]
    }
   ],
   "source": [
    "# 4. Get the row names\n",
    "print(transactions.index)"
   ]
  },
  {
   "cell_type": "code",
   "execution_count": 115,
   "metadata": {},
   "outputs": [
    {
     "name": "stdout",
     "output_type": "stream",
     "text": [
      "Index(['TransactionID', 'TransactionDate', 'UserID', 'ProductID', 'Quantity'], dtype='object')\n"
     ]
    }
   ],
   "source": [
    "# 5. Get the column names\n",
    "print(transactions.columns)\n"
   ]
  },
  {
   "cell_type": "code",
   "execution_count": 116,
   "metadata": {},
   "outputs": [
    {
     "name": "stdout",
     "output_type": "stream",
     "text": [
      "   TransactionID TransactionDate  UserID  ProductID  Quantity\n",
      "0              1      2010-08-21     7.0          2         1\n",
      "1              2      2011-05-26     3.0          4         1\n",
      "2              3      2011-06-16     3.0          3         1\n",
      "3              4      2012-08-26     1.0          2         3\n",
      "4              5      2013-06-06     2.0          4         1\n",
      "5              6      2013-12-23     2.0          5         6\n",
      "6              7      2013-12-30     3.0          4         1\n",
      "7              8      2014-04-24     NaN          2         3\n",
      "8              9      2015-04-24     7.0          4         3\n",
      "9             10      2016-05-08     3.0          4         4\n"
     ]
    }
   ],
   "source": [
    "# 6. View top 10 Records\n",
    "print(transactions.head(10))"
   ]
  },
  {
   "cell_type": "code",
   "execution_count": 117,
   "metadata": {},
   "outputs": [],
   "source": [
    "# 7. Change column name 'Quantity' to 'Quant'\n",
    "transactions.rename(columns={\"Quantity\": \"Quant\"}, inplace=True)"
   ]
  },
  {
   "cell_type": "code",
   "execution_count": 118,
   "metadata": {},
   "outputs": [],
   "source": [
    "# 8. Change column names ProductID to PID and UserID to UID\n",
    "transactions.rename(columns={\"ProductID\": \"PID\", \"UserID\": \"UID\"}, inplace=True)\n"
   ]
  },
  {
   "cell_type": "code",
   "execution_count": 119,
   "metadata": {},
   "outputs": [
    {
     "name": "stdout",
     "output_type": "stream",
     "text": [
      "   TransactionID TransactionDate  UID  PID  Quant\n",
      "9             10      2016-05-08  3.0    4      4\n",
      "8              9      2015-04-24  7.0    4      3\n",
      "7              8      2014-04-24  NaN    2      3\n",
      "6              7      2013-12-30  3.0    4      1\n",
      "5              6      2013-12-23  2.0    5      6\n",
      "4              5      2013-06-06  2.0    4      1\n",
      "3              4      2012-08-26  1.0    2      3\n",
      "2              3      2011-06-16  3.0    3      1\n",
      "1              2      2011-05-26  3.0    4      1\n",
      "0              1      2010-08-21  7.0    2      1\n"
     ]
    }
   ],
   "source": [
    "# 9. Order by TransactionId descending\n",
    "transactions = transactions.sort_values(by=\"TransactionID\", ascending=False)\n",
    "print(transactions)\n"
   ]
  },
  {
   "cell_type": "code",
   "execution_count": 120,
   "metadata": {},
   "outputs": [
    {
     "name": "stdout",
     "output_type": "stream",
     "text": [
      "   TransactionID TransactionDate  UID  PID  Quant\n",
      "6              7      2013-12-30  3.0    4      1\n",
      "4              5      2013-06-06  2.0    4      1\n",
      "2              3      2011-06-16  3.0    3      1\n",
      "1              2      2011-05-26  3.0    4      1\n",
      "0              1      2010-08-21  7.0    2      1\n",
      "8              9      2015-04-24  7.0    4      3\n",
      "7              8      2014-04-24  NaN    2      3\n",
      "3              4      2012-08-26  1.0    2      3\n",
      "9             10      2016-05-08  3.0    4      4\n",
      "5              6      2013-12-23  2.0    5      6\n"
     ]
    }
   ],
   "source": [
    "# 10. Order by Quantity ascending, TransactionDate descending\n",
    "transactions = transactions.sort_values(by=[\"Quant\", \"TransactionDate\"], ascending=[True, False])\n",
    "print(transactions)"
   ]
  },
  {
   "cell_type": "code",
   "execution_count": 121,
   "metadata": {},
   "outputs": [
    {
     "name": "stdout",
     "output_type": "stream",
     "text": [
      "   PID  Quant TransactionDate  TransactionID  UID\n",
      "6    4      1      2013-12-30              7  3.0\n",
      "4    4      1      2013-06-06              5  2.0\n",
      "2    3      1      2011-06-16              3  3.0\n",
      "1    4      1      2011-05-26              2  3.0\n",
      "0    2      1      2010-08-21              1  7.0\n",
      "8    4      3      2015-04-24              9  7.0\n",
      "7    2      3      2014-04-24              8  NaN\n",
      "3    2      3      2012-08-26              4  1.0\n",
      "9    4      4      2016-05-08             10  3.0\n",
      "5    5      6      2013-12-23              6  2.0\n"
     ]
    }
   ],
   "source": [
    "# 11. Reorder columns as ProductID, Quantity, TransactionDate, TransactionID, UserID\n",
    "transactions = transactions[[\"PID\", \"Quant\", \"TransactionDate\", \"TransactionID\", \"UID\"]]\n",
    "print(transactions)"
   ]
  },
  {
   "cell_type": "code",
   "execution_count": 122,
   "metadata": {},
   "outputs": [
    {
     "name": "stdout",
     "output_type": "stream",
     "text": [
      "   UID  PID  Quant TransactionDate  TransactionID\n",
      "6  3.0    4      1      2013-12-30              7\n",
      "4  2.0    4      1      2013-06-06              5\n",
      "2  3.0    3      1      2011-06-16              3\n",
      "1  3.0    4      1      2011-05-26              2\n",
      "0  7.0    2      1      2010-08-21              1\n",
      "8  7.0    4      3      2015-04-24              9\n",
      "7  NaN    2      3      2014-04-24              8\n",
      "3  1.0    2      3      2012-08-26              4\n",
      "9  3.0    4      4      2016-05-08             10\n",
      "5  2.0    5      6      2013-12-23              6\n"
     ]
    }
   ],
   "source": [
    "# 12. Make UserID the first column\n",
    "columns = [\"UID\"] + [col for col in transactions.columns if col != \"UID\"]\n",
    "transactions = transactions[columns]\n",
    "print(transactions)"
   ]
  },
  {
   "cell_type": "code",
   "execution_count": 123,
   "metadata": {},
   "outputs": [
    {
     "name": "stdout",
     "output_type": "stream",
     "text": [
      "[4 4 3 4 2 4 2 2 4 5]\n"
     ]
    }
   ],
   "source": [
    "# 13. Extract 2nd column as an array\n",
    "print(transactions.iloc[:, 1].values)"
   ]
  },
  {
   "cell_type": "code",
   "execution_count": 124,
   "metadata": {},
   "outputs": [
    {
     "name": "stdout",
     "output_type": "stream",
     "text": [
      "   UID  PID  Quant TransactionDate  TransactionID\n",
      "6  3.0    4      1      2013-12-30              7\n",
      "4  2.0    4      1      2013-06-06              5\n",
      "2  3.0    3      1      2011-06-16              3\n",
      "1  3.0    4      1      2011-05-26              2\n",
      "0  7.0    2      1      2010-08-21              1\n",
      "8  7.0    4      3      2015-04-24              9\n",
      "7  NaN    2      3      2014-04-24              8\n",
      "3  1.0    2      3      2012-08-26              4\n",
      "9  3.0    4      4      2016-05-08             10\n",
      "5  2.0    5      6      2013-12-23              6\n"
     ]
    }
   ],
   "source": [
    "# 12. Make UserID the first column\n",
    "transactions = transactions[[\"UID\", \"Quant\", \"TransactionDate\", \"TransactionID\", \"PID\"]]\n",
    "transactions = transactions[columns]\n",
    "print(transactions)"
   ]
  },
  {
   "cell_type": "code",
   "execution_count": 125,
   "metadata": {},
   "outputs": [
    {
     "name": "stdout",
     "output_type": "stream",
     "text": [
      "[4 4 3 4 2 4 2 2 4 5]\n"
     ]
    }
   ],
   "source": [
    "# 14. Get the ProductID Array\n",
    "print(transactions[\"PID\"].values)\n"
   ]
  },
  {
   "cell_type": "code",
   "execution_count": 126,
   "metadata": {},
   "outputs": [
    {
     "name": "stdout",
     "output_type": "stream",
     "text": [
      "[4 4 3 4 2 4 2 2 4 5]\n"
     ]
    }
   ],
   "source": [
    "# 15. Get ProductID array using a variable\n",
    "print(transactions[\"PID\"].values)"
   ]
  },
  {
   "cell_type": "code",
   "execution_count": 127,
   "metadata": {},
   "outputs": [
    {
     "name": "stdout",
     "output_type": "stream",
     "text": [
      "   UID  PID  Quant TransactionDate  TransactionID\n",
      "6  3.0    4      1      2013-12-30              7\n",
      "2  3.0    3      1      2011-06-16              3\n",
      "8  7.0    4      3      2015-04-24              9\n"
     ]
    }
   ],
   "source": [
    "# 16. Subset rows 1,3,6\n",
    "print(transactions.iloc[[0, 2, 5]])\n"
   ]
  },
  {
   "cell_type": "code",
   "execution_count": 128,
   "metadata": {},
   "outputs": [
    {
     "name": "stdout",
     "output_type": "stream",
     "text": [
      "   UID  PID  Quant TransactionDate  TransactionID\n",
      "6  3.0    4      1      2013-12-30              7\n",
      "4  2.0    4      1      2013-06-06              5\n",
      "1  3.0    4      1      2011-05-26              2\n",
      "8  7.0    4      3      2015-04-24              9\n",
      "7  NaN    2      3      2014-04-24              8\n",
      "3  1.0    2      3      2012-08-26              4\n",
      "9  3.0    4      4      2016-05-08             10\n"
     ]
    }
   ],
   "source": [
    "# 17. Subset rows excluding 1,3,6\n",
    "print(transactions.drop([0, 2, 5]))"
   ]
  },
  {
   "cell_type": "code",
   "execution_count": 129,
   "metadata": {},
   "outputs": [
    {
     "name": "stdout",
     "output_type": "stream",
     "text": [
      "   UID  PID  Quant TransactionDate  TransactionID\n",
      "6  3.0    4      1      2013-12-30              7\n",
      "4  2.0    4      1      2013-06-06              5\n",
      "2  3.0    3      1      2011-06-16              3\n"
     ]
    }
   ],
   "source": [
    "# 18. Subset first three rows\n",
    "print(transactions.head(3))\n"
   ]
  },
  {
   "cell_type": "code",
   "execution_count": 130,
   "metadata": {},
   "outputs": [
    {
     "name": "stdout",
     "output_type": "stream",
     "text": [
      "   UID  PID  Quant TransactionDate  TransactionID\n",
      "9  3.0    4      4      2016-05-08             10\n",
      "5  2.0    5      6      2013-12-23              6\n"
     ]
    }
   ],
   "source": [
    "# 19. Subset last 2 rows\n",
    "print(transactions.tail(2))"
   ]
  },
  {
   "cell_type": "code",
   "execution_count": 131,
   "metadata": {},
   "outputs": [
    {
     "name": "stdout",
     "output_type": "stream",
     "text": [
      "   UID  PID  Quant TransactionDate  TransactionID\n",
      "6  3.0    4      1      2013-12-30              7\n",
      "4  2.0    4      1      2013-06-06              5\n",
      "2  3.0    3      1      2011-06-16              3\n",
      "1  3.0    4      1      2011-05-26              2\n",
      "0  7.0    2      1      2010-08-21              1\n",
      "8  7.0    4      3      2015-04-24              9\n",
      "7  NaN    2      3      2014-04-24              8\n",
      "3  1.0    2      3      2012-08-26              4\n"
     ]
    }
   ],
   "source": [
    "# 20. Subset rows excluding last 2 rows\n",
    "print(transactions.iloc[:-2])"
   ]
  },
  {
   "cell_type": "code",
   "execution_count": 132,
   "metadata": {},
   "outputs": [
    {
     "name": "stdout",
     "output_type": "stream",
     "text": [
      "   UID  PID  Quant TransactionDate  TransactionID\n",
      "1  3.0    4      1      2011-05-26              2\n",
      "0  7.0    2      1      2010-08-21              1\n",
      "8  7.0    4      3      2015-04-24              9\n",
      "7  NaN    2      3      2014-04-24              8\n",
      "3  1.0    2      3      2012-08-26              4\n",
      "9  3.0    4      4      2016-05-08             10\n",
      "5  2.0    5      6      2013-12-23              6\n"
     ]
    }
   ],
   "source": [
    "# 21. Subset rows excluding first 3 rows\n",
    "print(transactions.iloc[3:])\n"
   ]
  },
  {
   "cell_type": "code",
   "execution_count": 133,
   "metadata": {},
   "outputs": [
    {
     "name": "stdout",
     "output_type": "stream",
     "text": [
      "   UID  PID  Quant TransactionDate  TransactionID\n",
      "8  7.0    4      3      2015-04-24              9\n",
      "7  NaN    2      3      2014-04-24              8\n",
      "3  1.0    2      3      2012-08-26              4\n",
      "9  3.0    4      4      2016-05-08             10\n",
      "5  2.0    5      6      2013-12-23              6\n"
     ]
    }
   ],
   "source": [
    " #22. Subset rows where Quantity > 1\n",
    "print(transactions[transactions[\"Quant\"] > 1])\n"
   ]
  },
  {
   "cell_type": "code",
   "execution_count": 134,
   "metadata": {},
   "outputs": [
    {
     "name": "stdout",
     "output_type": "stream",
     "text": [
      "   UID  PID  Quant TransactionDate  TransactionID\n",
      "4  2.0    4      1      2013-06-06              5\n",
      "5  2.0    5      6      2013-12-23              6\n"
     ]
    }
   ],
   "source": [
    "# 23. Subset rows where UserID = 2\n",
    "print(transactions[transactions[\"UID\"] == 2])"
   ]
  },
  {
   "cell_type": "code",
   "execution_count": 135,
   "metadata": {},
   "outputs": [
    {
     "name": "stdout",
     "output_type": "stream",
     "text": [
      "   UID  PID  Quant TransactionDate  TransactionID\n",
      "5  2.0    5      6      2013-12-23              6\n"
     ]
    }
   ],
   "source": [
    "# 24. Subset rows where Quantity > 1 and UserID = 2\n",
    "print(transactions[(transactions[\"Quant\"] > 1) & (transactions[\"UID\"] == 2)])"
   ]
  },
  {
   "cell_type": "code",
   "execution_count": 136,
   "metadata": {},
   "outputs": [
    {
     "name": "stdout",
     "output_type": "stream",
     "text": [
      "   UID  PID  Quant TransactionDate  TransactionID\n",
      "6  3.0    4      1      2013-12-30              7\n",
      "2  3.0    3      1      2011-06-16              3\n",
      "1  3.0    4      1      2011-05-26              2\n",
      "0  7.0    2      1      2010-08-21              1\n",
      "8  7.0    4      3      2015-04-24              9\n",
      "3  1.0    2      3      2012-08-26              4\n",
      "9  3.0    4      4      2016-05-08             10\n",
      "5  2.0    5      6      2013-12-23              6\n"
     ]
    }
   ],
   "source": [
    "# 25. Subset rows where Quantity + UserID > 3\n",
    "print(transactions[(transactions[\"Quant\"] + transactions[\"UID\"]) > 3])"
   ]
  },
  {
   "cell_type": "code",
   "execution_count": 137,
   "metadata": {},
   "outputs": [],
   "source": [
    "# 26-29: External foo, bar arrays for filtering\n",
    "foo = [True if i % 2 == 0 else False for i in range(len(transactions))]\n",
    "bar = [i if i % 2 == 0 else -i for i in range(len(transactions))]\n",
    "\n",
    "transactions = transactions.reset_index(drop=True)"
   ]
  },
  {
   "cell_type": "code",
   "execution_count": 138,
   "metadata": {},
   "outputs": [
    {
     "name": "stdout",
     "output_type": "stream",
     "text": [
      "   UID  PID  Quant TransactionDate  TransactionID\n",
      "0  3.0    4      1      2013-12-30              7\n",
      "2  3.0    3      1      2011-06-16              3\n",
      "4  7.0    2      1      2010-08-21              1\n",
      "6  NaN    2      3      2014-04-24              8\n",
      "8  3.0    4      4      2016-05-08             10\n"
     ]
    }
   ],
   "source": [
    "# 26. Subset where foo is True\n",
    "print(transactions[pd.Series(foo)])"
   ]
  },
  {
   "cell_type": "code",
   "execution_count": 139,
   "metadata": {},
   "outputs": [
    {
     "name": "stdout",
     "output_type": "stream",
     "text": [
      "   UID  PID  Quant TransactionDate  TransactionID\n",
      "2  3.0    3      1      2011-06-16              3\n",
      "4  7.0    2      1      2010-08-21              1\n",
      "6  NaN    2      3      2014-04-24              8\n",
      "8  3.0    4      4      2016-05-08             10\n"
     ]
    }
   ],
   "source": [
    "# 27. Subset where bar is positive\n",
    "print(transactions[pd.Series(bar) > 0])"
   ]
  },
  {
   "cell_type": "code",
   "execution_count": 140,
   "metadata": {},
   "outputs": [
    {
     "name": "stdout",
     "output_type": "stream",
     "text": [
      "   UID  PID  Quant TransactionDate  TransactionID\n",
      "0  3.0    4      1      2013-12-30              7\n",
      "1  2.0    4      1      2013-06-06              5\n",
      "2  3.0    3      1      2011-06-16              3\n",
      "3  3.0    4      1      2011-05-26              2\n",
      "4  7.0    2      1      2010-08-21              1\n",
      "5  7.0    4      3      2015-04-24              9\n",
      "6  NaN    2      3      2014-04-24              8\n",
      "7  1.0    2      3      2012-08-26              4\n",
      "8  3.0    4      4      2016-05-08             10\n",
      "9  2.0    5      6      2013-12-23              6\n"
     ]
    }
   ],
   "source": [
    "# 28. Subset where foo is True or bar is negative\n",
    "print(transactions[(pd.Series(foo)) | (pd.Series(bar) < 0)])"
   ]
  },
  {
   "cell_type": "code",
   "execution_count": 141,
   "metadata": {},
   "outputs": [
    {
     "name": "stdout",
     "output_type": "stream",
     "text": [
      "Empty DataFrame\n",
      "Columns: [UID, PID, Quant, TransactionDate, TransactionID]\n",
      "Index: []\n"
     ]
    }
   ],
   "source": [
    "# 29. Subset where foo is not True and bar is not negative\n",
    "print(transactions[(~pd.Series(foo)) & (~(pd.Series(bar) < 0))])"
   ]
  },
  {
   "cell_type": "code",
   "execution_count": 142,
   "metadata": {},
   "outputs": [
    {
     "name": "stdout",
     "output_type": "stream",
     "text": [
      "   UID  Quant\n",
      "0  3.0      1\n",
      "1  2.0      1\n",
      "2  3.0      1\n",
      "3  3.0      1\n",
      "4  7.0      1\n",
      "5  7.0      3\n",
      "6  NaN      3\n",
      "7  1.0      3\n",
      "8  3.0      4\n",
      "9  2.0      6\n"
     ]
    }
   ],
   "source": [
    "# 30. Subset by columns 1 and 3\n",
    "print(transactions.iloc[:, [0, 2]])\n"
   ]
  },
  {
   "cell_type": "code",
   "execution_count": 143,
   "metadata": {},
   "outputs": [
    {
     "name": "stdout",
     "output_type": "stream",
     "text": [
      "   TransactionID TransactionDate\n",
      "0              7      2013-12-30\n",
      "1              5      2013-06-06\n",
      "2              3      2011-06-16\n",
      "3              2      2011-05-26\n",
      "4              1      2010-08-21\n",
      "5              9      2015-04-24\n",
      "6              8      2014-04-24\n",
      "7              4      2012-08-26\n",
      "8             10      2016-05-08\n",
      "9              6      2013-12-23\n"
     ]
    }
   ],
   "source": [
    "# 31. Subset by TransactionID and TransactionDate\n",
    "print(transactions[[\"TransactionID\", \"TransactionDate\"]])"
   ]
  },
  {
   "cell_type": "code",
   "execution_count": 144,
   "metadata": {},
   "outputs": [
    {
     "name": "stdout",
     "output_type": "stream",
     "text": [
      "   TransactionID TransactionDate\n",
      "0              7      2013-12-30\n",
      "1              5      2013-06-06\n",
      "2              3      2011-06-16\n",
      "3              2      2011-05-26\n",
      "4              1      2010-08-21\n",
      "5              9      2015-04-24\n",
      "6              8      2014-04-24\n",
      "7              4      2012-08-26\n",
      "8             10      2016-05-08\n",
      "9              6      2013-12-23\n"
     ]
    }
   ],
   "source": [
    "# 32. Subset by TransactionID and TransactionDate using logical operator\n",
    "subset_cols = [\"TransactionID\", \"TransactionDate\"]\n",
    "print(transactions[subset_cols])\n"
   ]
  },
  {
   "cell_type": "code",
   "execution_count": 145,
   "metadata": {},
   "outputs": [
    {
     "name": "stdout",
     "output_type": "stream",
     "text": [
      "   UID  Quant\n",
      "0  3.0      1\n",
      "1  2.0      1\n",
      "2  3.0      1\n",
      "3  3.0      1\n",
      "4  7.0      1\n",
      "5  7.0      3\n",
      "6  NaN      3\n",
      "7  1.0      3\n",
      "8  3.0      4\n",
      "9  2.0      6\n"
     ]
    }
   ],
   "source": [
    "# 33. Subset columns using variable list\n",
    "selected_columns = [\"UID\", \"Quant\"]\n",
    "print(transactions[selected_columns])"
   ]
  },
  {
   "cell_type": "code",
   "execution_count": 146,
   "metadata": {},
   "outputs": [
    {
     "name": "stdout",
     "output_type": "stream",
     "text": [
      "   UID  PID  Quant TransactionDate\n",
      "0  3.0    4      1      2013-12-30\n",
      "1  2.0    4      1      2013-06-06\n",
      "2  3.0    3      1      2011-06-16\n",
      "3  3.0    4      1      2011-05-26\n",
      "4  7.0    2      1      2010-08-21\n",
      "5  7.0    4      3      2015-04-24\n",
      "6  NaN    2      3      2014-04-24\n",
      "7  1.0    2      3      2012-08-26\n",
      "8  3.0    4      4      2016-05-08\n",
      "9  2.0    5      6      2013-12-23\n"
     ]
    }
   ],
   "source": [
    "# 34. Subset excluding variable list\n",
    "excluded_columns = [\"TransactionID\"]\n",
    "print(transactions.drop(columns=excluded_columns))"
   ]
  },
  {
   "cell_type": "code",
   "execution_count": 147,
   "metadata": {},
   "outputs": [
    {
     "name": "stdout",
     "output_type": "stream",
     "text": [
      "   UID  PID  Quant TransactionDate  TransactionID  NewCol\n",
      "0  3.0    4    999      2013-12-30              7  Sample\n",
      "1  2.0    4      1      2013-06-06              5  Sample\n",
      "2  3.0    3      1      2011-06-16              3  Sample\n",
      "3  3.0    4      1      2011-05-26              2  Sample\n",
      "4  7.0    2      1      2010-08-21              1  Sample\n"
     ]
    }
   ],
   "source": [
    "# 35. Inserting and updating values\n",
    "transactions.loc[0, \"Quant\"] = 999  # Example update\n",
    "transactions[\"NewCol\"] = \"Sample\"  # Inserting new column\n",
    "print(transactions.head())"
   ]
  },
  {
   "cell_type": "code",
   "execution_count": 148,
   "metadata": {},
   "outputs": [
    {
     "name": "stdout",
     "output_type": "stream",
     "text": [
      "<class 'pandas.core.frame.DataFrame'>\n",
      "RangeIndex: 10 entries, 0 to 9\n",
      "Data columns (total 6 columns):\n",
      " #   Column           Non-Null Count  Dtype         \n",
      "---  ------           --------------  -----         \n",
      " 0   UID              9 non-null      float64       \n",
      " 1   PID              10 non-null     int64         \n",
      " 2   Quant            10 non-null     int64         \n",
      " 3   TransactionDate  10 non-null     datetime64[ns]\n",
      " 4   TransactionID    10 non-null     int64         \n",
      " 5   NewCol           10 non-null     object        \n",
      "dtypes: datetime64[ns](1), float64(1), int64(3), object(1)\n",
      "memory usage: 612.0+ bytes\n",
      "None\n"
     ]
    }
   ],
   "source": [
    "# 36. Convert TransactionDate column to Date type\n",
    "transactions[\"TransactionDate\"] = pd.to_datetime(transactions[\"TransactionDate\"])\n",
    "print(transactions.info())"
   ]
  },
  {
   "cell_type": "code",
   "execution_count": 149,
   "metadata": {},
   "outputs": [
    {
     "name": "stdout",
     "output_type": "stream",
     "text": [
      "   UID  PID  Quant TransactionDate  TransactionID  NewCol  Foo\n",
      "0  3.0    4    999      2013-12-30              7  Sample  7.0\n",
      "1  2.0    4      1      2013-06-06              5  Sample  6.0\n",
      "2  3.0    3      1      2011-06-16              3  Sample  6.0\n",
      "3  3.0    4      1      2011-05-26              2  Sample  7.0\n",
      "4  7.0    2      1      2010-08-21              1  Sample  9.0\n"
     ]
    }
   ],
   "source": [
    "# 37. Insert new column Foo = UserID + ProductID\n",
    "transactions[\"Foo\"] = transactions[\"UID\"] + transactions[\"PID\"]\n",
    "print(transactions.head())"
   ]
  }
 ],
 "metadata": {
  "kernelspec": {
   "display_name": "Python 3 (ipykernel)",
   "language": "python",
   "name": "python3"
  },
  "language_info": {
   "codemirror_mode": {
    "name": "ipython",
    "version": 3
   },
   "file_extension": ".py",
   "mimetype": "text/x-python",
   "name": "python",
   "nbconvert_exporter": "python",
   "pygments_lexer": "ipython3",
   "version": "3.11.7"
  }
 },
 "nbformat": 4,
 "nbformat_minor": 4
}
